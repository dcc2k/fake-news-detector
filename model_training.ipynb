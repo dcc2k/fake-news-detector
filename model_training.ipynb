{
 "cells": [
  {
   "cell_type": "markdown",
   "metadata": {},
   "source": [
    "# Model Training"
   ]
  },
  {
   "cell_type": "code",
   "execution_count": 3,
   "metadata": {},
   "outputs": [],
   "source": [
    "import numpy as np\n",
    "\n",
    "X = np.load('data/features.npy')\n",
    "y= np.load('data/labels.npy')"
   ]
  },
  {
   "cell_type": "code",
   "execution_count": 32,
   "metadata": {},
   "outputs": [
    {
     "data": {
      "text/plain": [
       "(71537, 100)"
      ]
     },
     "execution_count": 32,
     "metadata": {},
     "output_type": "execute_result"
    }
   ],
   "source": [
    "X.shape"
   ]
  },
  {
   "cell_type": "code",
   "execution_count": 4,
   "metadata": {},
   "outputs": [
    {
     "data": {
      "text/plain": [
       "array([1., 1., 0., ..., 0., 0., 1.], dtype=float32)"
      ]
     },
     "execution_count": 4,
     "metadata": {},
     "output_type": "execute_result"
    }
   ],
   "source": [
    "y"
   ]
  },
  {
   "cell_type": "code",
   "execution_count": 42,
   "metadata": {},
   "outputs": [],
   "source": [
    "from sklearn.model_selection import train_test_split\n",
    "\n",
    "RANDOM_SEED = 42\n",
    "SUBSET_SIZE = 71537\n",
    "TRAIN_SPLIT = 0.8\n",
    "\n",
    "X_subset = X[:SUBSET_SIZE]\n",
    "y_subset = y[:SUBSET_SIZE]\n",
    "\n",
    "#X_train, X_test, y_train, y_test = train_test_split(X_subset, y_subset, test_size=0.2, random_state=RANDOM_SEED)\n",
    "\n",
    "X_train, X_test, y_train, y_test = train_test_split(X, y, test_size=0.2, random_state=RANDOM_SEED)"
   ]
  },
  {
   "cell_type": "markdown",
   "metadata": {},
   "source": [
    "## Connect to MLFLOW"
   ]
  },
  {
   "cell_type": "code",
   "execution_count": 11,
   "metadata": {},
   "outputs": [
    {
     "name": "stdout",
     "output_type": "stream",
     "text": [
      "<Experiment: artifact_location='mlflow-artifacts:/725549188942396702', creation_time=1699380828640, experiment_id='725549188942396702', last_update_time=1699380828640, lifecycle_stage='active', name='fake_news_detector', tags={}>\n"
     ]
    }
   ],
   "source": [
    "import mlflow\n",
    "\n",
    "EXPERIMENT_NAME = 'fake_news_detector'\n",
    "\n",
    "experiment = mlflow.get_experiment_by_name(EXPERIMENT_NAME)"
   ]
  },
  {
   "cell_type": "code",
   "execution_count": 43,
   "metadata": {},
   "outputs": [],
   "source": [
    "from sklearn.svm import SVC\n",
    "from sklearn.metrics import accuracy_score, precision_score, recall_score\n",
    "\n",
    "run_name = 'run-fake-news-detector-SVC'\n",
    "\n",
    "modelSVC = SVC(random_state=RANDOM_SEED)\n",
    "\n",
    "with mlflow.start_run(\n",
    "    experiment_id=experiment.experiment_id,\n",
    "    run_name=run_name\n",
    ") as run:\n",
    "     # set the tags\n",
    "    mlflow.set_tags({\n",
    "        \"default_model_params\":False,\n",
    "        \"model\": \"SVC\",\n",
    "        \"author\": \"@dcc2k\",\n",
    "    })\n",
    "    \n",
    "    # Log a parameter (key-value pair)\n",
    "    # Log the model parameters\n",
    "    mlflow.log_param(\"random_seed\", RANDOM_SEED)\n",
    "    mlflow.log_param(\"train_size\", TRAIN_SPLIT)\n",
    "    mlflow.log_param(\"subset_size\", SUBSET_SIZE)\n",
    "    \n",
    "    modelSVC.fit(X_train,y_train)\n",
    "    \n",
    "    y_pred = modelSVC.predict(X_test)\n",
    "    \n",
    "    accuracy = accuracy_score(y_test, y_pred)\n",
    "    precission = precision_score(y_test, y_pred, average=\"weighted\")\n",
    "    recall = recall_score(y_test, y_pred, average=\"weighted\")\n",
    "    \n",
    "     # Log a metric; metrics can be updated throughout the run\n",
    "    mlflow.log_metric(\"accuracy\", round(accuracy,3))\n",
    "    mlflow.log_metric(\"precision\", round(precission,3))\n",
    "    mlflow.log_metric(\"recall\", round(recall,3))"
   ]
  },
  {
   "cell_type": "code",
   "execution_count": 49,
   "metadata": {},
   "outputs": [
    {
     "name": "stdout",
     "output_type": "stream",
     "text": [
      "Run ID: af1b4f01c5774039bbdbb00c811f612e\n"
     ]
    },
    {
     "name": "stderr",
     "output_type": "stream",
     "text": [
      "/opt/conda/envs/myenv/lib/python3.11/site-packages/_distutils_hack/__init__.py:18: UserWarning: Distutils was imported before Setuptools, but importing Setuptools also replaces the `distutils` module in `sys.modules`. This may lead to undesirable behaviors or errors. To avoid these issues, avoid using distutils directly, ensure that setuptools is installed in the traditional way (e.g. not an editable install), and/or make sure that setuptools is always imported before distutils.\n",
      "  warnings.warn(\n",
      "/opt/conda/envs/myenv/lib/python3.11/site-packages/_distutils_hack/__init__.py:33: UserWarning: Setuptools is replacing distutils.\n",
      "  warnings.warn(\"Setuptools is replacing distutils.\")\n"
     ]
    }
   ],
   "source": [
    "run_name = 'run-fake-news-detector-SVC'\n",
    "\n",
    "mlflow.set_tracking_uri(\"http://127.0.0.1:5000\")\n",
    "\n",
    "with mlflow.start_run(\n",
    "    experiment_id=experiment.experiment_id,\n",
    "    run_name=run_name,\n",
    ") as run:\n",
    "    \n",
    "    # log the confusion matrix as an artifact\n",
    "    mlflow.sklearn.log_model(modelSVC, \"SVC_model\") \n",
    "    mlflow.set_tags({\"model\": \"SVC\"})\n",
    "\n",
    "    # Print the run ID\n",
    "    print(f\"Run ID: {run.info.run_id}\")"
   ]
  },
  {
   "cell_type": "code",
   "execution_count": 44,
   "metadata": {},
   "outputs": [
    {
     "name": "stderr",
     "output_type": "stream",
     "text": [
      "/opt/conda/envs/myenv/lib/python3.11/site-packages/sklearn/linear_model/_logistic.py:460: ConvergenceWarning: lbfgs failed to converge (status=1):\n",
      "STOP: TOTAL NO. of ITERATIONS REACHED LIMIT.\n",
      "\n",
      "Increase the number of iterations (max_iter) or scale the data as shown in:\n",
      "    https://scikit-learn.org/stable/modules/preprocessing.html\n",
      "Please also refer to the documentation for alternative solver options:\n",
      "    https://scikit-learn.org/stable/modules/linear_model.html#logistic-regression\n",
      "  n_iter_i = _check_optimize_result(\n"
     ]
    }
   ],
   "source": [
    "from sklearn.linear_model import LogisticRegression\n",
    "\n",
    "from sklearn.metrics import accuracy_score, precision_score, recall_score\n",
    "\n",
    "run_name = 'run-fake-news-detector-LogisticRegression'\n",
    "\n",
    "modelLR = LogisticRegression(random_state=RANDOM_SEED)\n",
    "\n",
    "with mlflow.start_run(\n",
    "    experiment_id=experiment.experiment_id,\n",
    "    run_name=run_name\n",
    ") as run:\n",
    "     # set the tags\n",
    "    mlflow.set_tags({\n",
    "        \"default_model_params\":False,\n",
    "        \"model\": \"LogisticRegression\",\n",
    "        \"author\": \"@dcc2k\",\n",
    "    })\n",
    "    \n",
    "    # Log a parameter (key-value pair)\n",
    "    # Log the model parameters\n",
    "    mlflow.log_param(\"random_seed\", RANDOM_SEED)\n",
    "    mlflow.log_param(\"train_size\", TRAIN_SPLIT)\n",
    "    mlflow.log_param(\"subset_size\", SUBSET_SIZE)\n",
    "    \n",
    "    modelLR.fit(X_train,y_train)\n",
    "    \n",
    "    y_pred = modelLR.predict(X_test)\n",
    "    \n",
    "    accuracy = accuracy_score(y_test, y_pred)\n",
    "    precission = precision_score(y_test, y_pred, average=\"weighted\")\n",
    "    recall = recall_score(y_test, y_pred, average=\"weighted\")\n",
    "    \n",
    "     # Log a metric; metrics can be updated throughout the run\n",
    "    mlflow.log_metric(\"accuracy\", round(accuracy,3))\n",
    "    mlflow.log_metric(\"precision\", round(precission,3))\n",
    "    mlflow.log_metric(\"recall\", round(recall,3))"
   ]
  },
  {
   "cell_type": "code",
   "execution_count": 45,
   "metadata": {},
   "outputs": [
    {
     "name": "stderr",
     "output_type": "stream",
     "text": [
      "/opt/conda/envs/myenv/lib/python3.11/site-packages/sklearn/cluster/_kmeans.py:1416: FutureWarning: The default value of `n_init` will change from 10 to 'auto' in 1.4. Set the value of `n_init` explicitly to suppress the warning\n",
      "  super()._check_params_vs_input(X, default_n_init=10)\n"
     ]
    }
   ],
   "source": [
    "from sklearn.cluster import KMeans\n",
    "\n",
    "from sklearn.metrics import accuracy_score, precision_score, recall_score\n",
    "\n",
    "run_name = 'run-fake-news-detector-KMeans'\n",
    "\n",
    "modelKM = KMeans(n_clusters=2)\n",
    "\n",
    "with mlflow.start_run(\n",
    "    experiment_id=experiment.experiment_id,\n",
    "    run_name=run_name\n",
    ") as run:\n",
    "     # set the tags\n",
    "    mlflow.set_tags({\n",
    "        \"default_model_params\":False,\n",
    "        \"model\": \"KMeans\",\n",
    "        \"author\": \"@dcc2k\",\n",
    "    })\n",
    "    \n",
    "    # Log a parameter (key-value pair)\n",
    "    # Log the model parameters\n",
    "    mlflow.log_param(\"n_clusters\", 2)\n",
    "    mlflow.log_param(\"train_size\", TRAIN_SPLIT)\n",
    "    mlflow.log_param(\"subset_size\", SUBSET_SIZE)\n",
    "    \n",
    "    modelKM.fit(X_train,y_train)\n",
    "    \n",
    "    y_pred = modelKM.predict(X_test)\n",
    "    \n",
    "    accuracy = accuracy_score(y_test, y_pred)\n",
    "    precission = precision_score(y_test, y_pred, average=\"weighted\")\n",
    "    recall = recall_score(y_test, y_pred, average=\"weighted\")\n",
    "    \n",
    "     # Log a metric; metrics can be updated throughout the run\n",
    "    mlflow.log_metric(\"accuracy\", round(accuracy,3))\n",
    "    mlflow.log_metric(\"precision\", round(precission,3))\n",
    "    mlflow.log_metric(\"recall\", round(recall,3))"
   ]
  },
  {
   "cell_type": "code",
   "execution_count": null,
   "metadata": {},
   "outputs": [],
   "source": []
  }
 ],
 "metadata": {
  "kernelspec": {
   "display_name": "myenv",
   "language": "python",
   "name": "python3"
  },
  "language_info": {
   "codemirror_mode": {
    "name": "ipython",
    "version": 3
   },
   "file_extension": ".py",
   "mimetype": "text/x-python",
   "name": "python",
   "nbconvert_exporter": "python",
   "pygments_lexer": "ipython3",
   "version": "3.11.5"
  }
 },
 "nbformat": 4,
 "nbformat_minor": 2
}
